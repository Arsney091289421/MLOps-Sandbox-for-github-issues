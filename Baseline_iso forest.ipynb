{
 "cells": [
  {
   "cell_type": "code",
   "execution_count": null,
   "id": "5bf2313b-c783-492a-8bb2-a27431c4a15b",
   "metadata": {},
   "outputs": [],
   "source": [
    "pip install pyarrow\n",
    "pip install scikit-learn\n",
    "pip install pandas"
   ]
  },
  {
   "cell_type": "code",
   "execution_count": 4,
   "id": "927e2870-51a4-47e1-a7b5-5d5092a30cab",
   "metadata": {},
   "outputs": [],
   "source": [
    "import pandas as pd\n",
    "import numpy as np\n",
    "from sklearn.ensemble import IsolationForest\n",
    "from sklearn.preprocessing import StandardScaler\n",
    "from sklearn.metrics import f1_score, roc_auc_score"
   ]
  },
  {
   "cell_type": "code",
   "execution_count": 7,
   "id": "acd30644-b2f7-41ef-9f46-0e1debdf28fe",
   "metadata": {},
   "outputs": [],
   "source": [
    "df = pd.read_parquet('/Users/daniel/Documents/projects/data/features/issues_features_full_plus_increment.parquet')"
   ]
  },
  {
   "cell_type": "code",
   "execution_count": 9,
   "id": "5dd8137f-f52e-4090-a87b-544e257d058c",
   "metadata": {},
   "outputs": [
    {
     "data": {
      "text/html": [
       "<div>\n",
       "<style scoped>\n",
       "    .dataframe tbody tr th:only-of-type {\n",
       "        vertical-align: middle;\n",
       "    }\n",
       "\n",
       "    .dataframe tbody tr th {\n",
       "        vertical-align: top;\n",
       "    }\n",
       "\n",
       "    .dataframe thead th {\n",
       "        text-align: right;\n",
       "    }\n",
       "</style>\n",
       "<table border=\"1\" class=\"dataframe\">\n",
       "  <thead>\n",
       "    <tr style=\"text-align: right;\">\n",
       "      <th></th>\n",
       "      <th>title_len</th>\n",
       "      <th>body_len</th>\n",
       "      <th>num_labels</th>\n",
       "      <th>has_bug_label</th>\n",
       "      <th>hour_created</th>\n",
       "      <th>comments</th>\n",
       "      <th>closed_within_7_days</th>\n",
       "      <th>number</th>\n",
       "    </tr>\n",
       "  </thead>\n",
       "  <tbody>\n",
       "    <tr>\n",
       "      <th>0</th>\n",
       "      <td>111</td>\n",
       "      <td>0</td>\n",
       "      <td>0</td>\n",
       "      <td>0</td>\n",
       "      <td>9</td>\n",
       "      <td>1</td>\n",
       "      <td>1</td>\n",
       "      <td>38147</td>\n",
       "    </tr>\n",
       "    <tr>\n",
       "      <th>1</th>\n",
       "      <td>40</td>\n",
       "      <td>3259</td>\n",
       "      <td>0</td>\n",
       "      <td>0</td>\n",
       "      <td>7</td>\n",
       "      <td>6</td>\n",
       "      <td>1</td>\n",
       "      <td>38122</td>\n",
       "    </tr>\n",
       "    <tr>\n",
       "      <th>2</th>\n",
       "      <td>49</td>\n",
       "      <td>400</td>\n",
       "      <td>0</td>\n",
       "      <td>0</td>\n",
       "      <td>5</td>\n",
       "      <td>6</td>\n",
       "      <td>1</td>\n",
       "      <td>38096</td>\n",
       "    </tr>\n",
       "    <tr>\n",
       "      <th>3</th>\n",
       "      <td>74</td>\n",
       "      <td>926</td>\n",
       "      <td>0</td>\n",
       "      <td>0</td>\n",
       "      <td>15</td>\n",
       "      <td>2</td>\n",
       "      <td>1</td>\n",
       "      <td>38070</td>\n",
       "    </tr>\n",
       "    <tr>\n",
       "      <th>4</th>\n",
       "      <td>49</td>\n",
       "      <td>567</td>\n",
       "      <td>0</td>\n",
       "      <td>0</td>\n",
       "      <td>7</td>\n",
       "      <td>1</td>\n",
       "      <td>1</td>\n",
       "      <td>38056</td>\n",
       "    </tr>\n",
       "  </tbody>\n",
       "</table>\n",
       "</div>"
      ],
      "text/plain": [
       "   title_len  body_len  num_labels  has_bug_label  hour_created  comments  \\\n",
       "0        111         0           0              0             9         1   \n",
       "1         40      3259           0              0             7         6   \n",
       "2         49       400           0              0             5         6   \n",
       "3         74       926           0              0            15         2   \n",
       "4         49       567           0              0             7         1   \n",
       "\n",
       "   closed_within_7_days  number  \n",
       "0                     1   38147  \n",
       "1                     1   38122  \n",
       "2                     1   38096  \n",
       "3                     1   38070  \n",
       "4                     1   38056  "
      ]
     },
     "execution_count": 9,
     "metadata": {},
     "output_type": "execute_result"
    }
   ],
   "source": [
    "df.head()\n",
    "\n"
   ]
  },
  {
   "cell_type": "code",
   "execution_count": 10,
   "id": "94bc54db-f644-4846-be39-fb98171f2314",
   "metadata": {},
   "outputs": [
    {
     "name": "stdout",
     "output_type": "stream",
     "text": [
      "Isolation Forest baseline F1: 0.1751\n",
      "Isolation Forest baseline AUC: 0.4678\n"
     ]
    }
   ],
   "source": [
    "\n",
    "label_col = 'closed_within_7_days'\n",
    "y = df[label_col]\n",
    "\n",
    "X = df.drop(columns=[label_col, 'number'])\n",
    "\n",
    "scaler = StandardScaler()\n",
    "X_scaled = scaler.fit_transform(X)\n",
    "\n",
    "iso = IsolationForest(random_state=42, contamination='auto')\n",
    "iso.fit(X_scaled)\n",
    "\n",
    "scores = iso.decision_function(X_scaled)  \n",
    "preds = iso.predict(X_scaled)             \n",
    "\n",
    "pred_labels = np.where(preds == -1, 1, 0) \n",
    "\n",
    "f1 = f1_score(y, pred_labels)\n",
    "auc = roc_auc_score(y, -scores)  \n",
    "\n",
    "print(f\"Isolation Forest baseline F1: {f1:.4f}\")\n",
    "print(f\"Isolation Forest baseline AUC: {auc:.4f}\")\n"
   ]
  },
  {
   "cell_type": "code",
   "execution_count": null,
   "id": "ac3ed163-fed5-4d1e-b29d-f5669d20bfd3",
   "metadata": {},
   "outputs": [],
   "source": []
  }
 ],
 "metadata": {
  "kernelspec": {
   "display_name": "Python 3 (ipykernel)",
   "language": "python",
   "name": "python3"
  },
  "language_info": {
   "codemirror_mode": {
    "name": "ipython",
    "version": 3
   },
   "file_extension": ".py",
   "mimetype": "text/x-python",
   "name": "python",
   "nbconvert_exporter": "python",
   "pygments_lexer": "ipython3",
   "version": "3.13.5"
  }
 },
 "nbformat": 4,
 "nbformat_minor": 5
}
